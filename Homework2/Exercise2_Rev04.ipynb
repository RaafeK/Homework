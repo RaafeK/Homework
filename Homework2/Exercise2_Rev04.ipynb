{
 "cells": [
  {
   "cell_type": "code",
   "execution_count": 4,
   "metadata": {
    "collapsed": true
   },
   "outputs": [],
   "source": [
    "import numpy as np\n",
    "import matplotlib.pyplot as plt\n",
    "import pandas as pd\n",
    "import datetime as dt\n",
    "import itertools\n",
    "import pickle\n",
    "\n",
    "%matplotlib inline"
   ]
  },
  {
   "cell_type": "code",
   "execution_count": 5,
   "metadata": {
    "collapsed": true
   },
   "outputs": [],
   "source": [
    "pickle_file = open('campusDemand.pkl','rb')\n",
    "pickled_data = pickle.load(pickle_file)\n",
    "pickle_file.close()\n",
    "\n",
    "# Since we pickled them all together as a list, I'm going to assign each element of the list to the same variable\n",
    "# we had been using before:\n",
    "data = pickled_data[0]\n",
    "pointNames = pickled_data[1]\n",
    "data_by_day = pickled_data[2]\n",
    "idx = pickled_data[3]"
   ]
  },
  {
   "cell_type": "code",
   "execution_count": 6,
   "metadata": {
    "collapsed": false
   },
   "outputs": [
    {
     "data": {
      "text/html": [
       "<div>\n",
       "<table border=\"1\" class=\"dataframe\">\n",
       "  <thead>\n",
       "    <tr style=\"text-align: right;\">\n",
       "      <th></th>\n",
       "      <th>Time</th>\n",
       "      <th>Value</th>\n",
       "    </tr>\n",
       "  </thead>\n",
       "  <tbody>\n",
       "    <tr>\n",
       "      <th>152348</th>\n",
       "      <td>2013-11-10 00:00:30</td>\n",
       "      <td>8367.816250</td>\n",
       "    </tr>\n",
       "    <tr>\n",
       "      <th>152349</th>\n",
       "      <td>2013-11-10 00:01:30</td>\n",
       "      <td>8287.111375</td>\n",
       "    </tr>\n",
       "    <tr>\n",
       "      <th>152350</th>\n",
       "      <td>2013-11-10 00:02:30</td>\n",
       "      <td>8340.608125</td>\n",
       "    </tr>\n",
       "    <tr>\n",
       "      <th>152351</th>\n",
       "      <td>2013-11-10 00:03:30</td>\n",
       "      <td>8342.061625</td>\n",
       "    </tr>\n",
       "    <tr>\n",
       "      <th>152352</th>\n",
       "      <td>2013-11-10 00:04:30</td>\n",
       "      <td>8341.360375</td>\n",
       "    </tr>\n",
       "    <tr>\n",
       "      <th>152353</th>\n",
       "      <td>2013-11-10 00:05:30</td>\n",
       "      <td>8343.680875</td>\n",
       "    </tr>\n",
       "    <tr>\n",
       "      <th>152354</th>\n",
       "      <td>2013-11-10 00:06:30</td>\n",
       "      <td>8335.307125</td>\n",
       "    </tr>\n",
       "    <tr>\n",
       "      <th>152355</th>\n",
       "      <td>2013-11-10 00:07:30</td>\n",
       "      <td>8294.368000</td>\n",
       "    </tr>\n",
       "    <tr>\n",
       "      <th>152356</th>\n",
       "      <td>2013-11-10 00:08:30</td>\n",
       "      <td>8327.415375</td>\n",
       "    </tr>\n",
       "    <tr>\n",
       "      <th>152357</th>\n",
       "      <td>2013-11-10 00:09:30</td>\n",
       "      <td>8287.635875</td>\n",
       "    </tr>\n",
       "    <tr>\n",
       "      <th>152358</th>\n",
       "      <td>2013-11-10 00:10:30</td>\n",
       "      <td>8331.407875</td>\n",
       "    </tr>\n",
       "    <tr>\n",
       "      <th>152359</th>\n",
       "      <td>2013-11-10 00:11:30</td>\n",
       "      <td>8293.145250</td>\n",
       "    </tr>\n",
       "    <tr>\n",
       "      <th>152360</th>\n",
       "      <td>2013-11-10 00:12:30</td>\n",
       "      <td>8294.012875</td>\n",
       "    </tr>\n",
       "    <tr>\n",
       "      <th>152361</th>\n",
       "      <td>2013-11-10 00:13:30</td>\n",
       "      <td>8266.896000</td>\n",
       "    </tr>\n",
       "    <tr>\n",
       "      <th>152362</th>\n",
       "      <td>2013-11-10 00:14:30</td>\n",
       "      <td>8336.414875</td>\n",
       "    </tr>\n",
       "    <tr>\n",
       "      <th>152363</th>\n",
       "      <td>2013-11-10 00:15:30</td>\n",
       "      <td>8287.716375</td>\n",
       "    </tr>\n",
       "    <tr>\n",
       "      <th>152364</th>\n",
       "      <td>2013-11-10 00:16:30</td>\n",
       "      <td>8394.073500</td>\n",
       "    </tr>\n",
       "    <tr>\n",
       "      <th>152365</th>\n",
       "      <td>2013-11-10 00:17:30</td>\n",
       "      <td>8357.013375</td>\n",
       "    </tr>\n",
       "    <tr>\n",
       "      <th>152366</th>\n",
       "      <td>2013-11-10 00:18:30</td>\n",
       "      <td>8264.901375</td>\n",
       "    </tr>\n",
       "    <tr>\n",
       "      <th>152367</th>\n",
       "      <td>2013-11-10 00:19:30</td>\n",
       "      <td>8297.806375</td>\n",
       "    </tr>\n",
       "    <tr>\n",
       "      <th>152368</th>\n",
       "      <td>2013-11-10 00:20:30</td>\n",
       "      <td>8252.975625</td>\n",
       "    </tr>\n",
       "    <tr>\n",
       "      <th>152369</th>\n",
       "      <td>2013-11-10 00:21:30</td>\n",
       "      <td>8282.008500</td>\n",
       "    </tr>\n",
       "    <tr>\n",
       "      <th>152370</th>\n",
       "      <td>2013-11-10 00:22:30</td>\n",
       "      <td>8248.504375</td>\n",
       "    </tr>\n",
       "    <tr>\n",
       "      <th>152371</th>\n",
       "      <td>2013-11-10 00:23:30</td>\n",
       "      <td>8268.688375</td>\n",
       "    </tr>\n",
       "    <tr>\n",
       "      <th>152372</th>\n",
       "      <td>2013-11-10 00:24:30</td>\n",
       "      <td>8242.808000</td>\n",
       "    </tr>\n",
       "    <tr>\n",
       "      <th>152373</th>\n",
       "      <td>2013-11-10 00:25:30</td>\n",
       "      <td>8260.130125</td>\n",
       "    </tr>\n",
       "    <tr>\n",
       "      <th>152374</th>\n",
       "      <td>2013-11-10 00:26:30</td>\n",
       "      <td>8255.203000</td>\n",
       "    </tr>\n",
       "    <tr>\n",
       "      <th>152375</th>\n",
       "      <td>2013-11-10 00:27:30</td>\n",
       "      <td>8223.447625</td>\n",
       "    </tr>\n",
       "    <tr>\n",
       "      <th>152376</th>\n",
       "      <td>2013-11-10 00:28:30</td>\n",
       "      <td>8200.859625</td>\n",
       "    </tr>\n",
       "    <tr>\n",
       "      <th>152377</th>\n",
       "      <td>2013-11-10 00:29:30</td>\n",
       "      <td>8246.752000</td>\n",
       "    </tr>\n",
       "    <tr>\n",
       "      <th>...</th>\n",
       "      <td>...</td>\n",
       "      <td>...</td>\n",
       "    </tr>\n",
       "    <tr>\n",
       "      <th>674728</th>\n",
       "      <td>2014-11-10 22:24:27</td>\n",
       "      <td>3543.411500</td>\n",
       "    </tr>\n",
       "    <tr>\n",
       "      <th>674729</th>\n",
       "      <td>2014-11-10 22:25:27</td>\n",
       "      <td>3579.008000</td>\n",
       "    </tr>\n",
       "    <tr>\n",
       "      <th>674730</th>\n",
       "      <td>2014-11-10 22:26:27</td>\n",
       "      <td>3579.008000</td>\n",
       "    </tr>\n",
       "    <tr>\n",
       "      <th>674731</th>\n",
       "      <td>2014-11-10 22:27:27</td>\n",
       "      <td>3579.008000</td>\n",
       "    </tr>\n",
       "    <tr>\n",
       "      <th>674732</th>\n",
       "      <td>2014-11-10 22:28:27</td>\n",
       "      <td>3579.008000</td>\n",
       "    </tr>\n",
       "    <tr>\n",
       "      <th>674733</th>\n",
       "      <td>2014-11-10 22:29:27</td>\n",
       "      <td>3579.008000</td>\n",
       "    </tr>\n",
       "    <tr>\n",
       "      <th>674734</th>\n",
       "      <td>2014-11-10 22:30:27</td>\n",
       "      <td>3579.008000</td>\n",
       "    </tr>\n",
       "    <tr>\n",
       "      <th>674735</th>\n",
       "      <td>2014-11-10 22:31:27</td>\n",
       "      <td>3579.008000</td>\n",
       "    </tr>\n",
       "    <tr>\n",
       "      <th>674736</th>\n",
       "      <td>2014-11-10 22:32:27</td>\n",
       "      <td>3579.008000</td>\n",
       "    </tr>\n",
       "    <tr>\n",
       "      <th>674737</th>\n",
       "      <td>2014-11-10 22:33:27</td>\n",
       "      <td>3579.008000</td>\n",
       "    </tr>\n",
       "    <tr>\n",
       "      <th>674738</th>\n",
       "      <td>2014-11-10 22:34:27</td>\n",
       "      <td>3517.766250</td>\n",
       "    </tr>\n",
       "    <tr>\n",
       "      <th>674739</th>\n",
       "      <td>2014-11-10 22:35:27</td>\n",
       "      <td>3381.182250</td>\n",
       "    </tr>\n",
       "    <tr>\n",
       "      <th>674740</th>\n",
       "      <td>2014-11-10 22:36:27</td>\n",
       "      <td>3506.303875</td>\n",
       "    </tr>\n",
       "    <tr>\n",
       "      <th>674741</th>\n",
       "      <td>2014-11-10 22:37:27</td>\n",
       "      <td>3507.921250</td>\n",
       "    </tr>\n",
       "    <tr>\n",
       "      <th>674742</th>\n",
       "      <td>2014-11-10 22:38:27</td>\n",
       "      <td>3286.826625</td>\n",
       "    </tr>\n",
       "    <tr>\n",
       "      <th>674743</th>\n",
       "      <td>2014-11-10 22:39:27</td>\n",
       "      <td>3497.837750</td>\n",
       "    </tr>\n",
       "    <tr>\n",
       "      <th>674744</th>\n",
       "      <td>2014-11-10 22:40:27</td>\n",
       "      <td>3423.302750</td>\n",
       "    </tr>\n",
       "    <tr>\n",
       "      <th>674745</th>\n",
       "      <td>2014-11-10 22:41:27</td>\n",
       "      <td>3480.630750</td>\n",
       "    </tr>\n",
       "    <tr>\n",
       "      <th>674746</th>\n",
       "      <td>2014-11-10 22:42:27</td>\n",
       "      <td>3344.575500</td>\n",
       "    </tr>\n",
       "    <tr>\n",
       "      <th>674747</th>\n",
       "      <td>2014-11-10 22:43:27</td>\n",
       "      <td>3620.736625</td>\n",
       "    </tr>\n",
       "    <tr>\n",
       "      <th>674748</th>\n",
       "      <td>2014-11-10 22:44:27</td>\n",
       "      <td>3513.079500</td>\n",
       "    </tr>\n",
       "    <tr>\n",
       "      <th>674749</th>\n",
       "      <td>2014-11-10 22:45:27</td>\n",
       "      <td>3358.159875</td>\n",
       "    </tr>\n",
       "    <tr>\n",
       "      <th>674750</th>\n",
       "      <td>2014-11-10 22:46:27</td>\n",
       "      <td>3557.792375</td>\n",
       "    </tr>\n",
       "    <tr>\n",
       "      <th>674751</th>\n",
       "      <td>2014-11-10 22:47:27</td>\n",
       "      <td>3305.189250</td>\n",
       "    </tr>\n",
       "    <tr>\n",
       "      <th>674752</th>\n",
       "      <td>2014-11-10 22:48:27</td>\n",
       "      <td>3347.225875</td>\n",
       "    </tr>\n",
       "    <tr>\n",
       "      <th>674753</th>\n",
       "      <td>2014-11-10 22:49:27</td>\n",
       "      <td>3561.798250</td>\n",
       "    </tr>\n",
       "    <tr>\n",
       "      <th>674754</th>\n",
       "      <td>2014-11-10 22:50:27</td>\n",
       "      <td>3545.913875</td>\n",
       "    </tr>\n",
       "    <tr>\n",
       "      <th>674755</th>\n",
       "      <td>2014-11-10 22:51:27</td>\n",
       "      <td>3494.222875</td>\n",
       "    </tr>\n",
       "    <tr>\n",
       "      <th>674756</th>\n",
       "      <td>2014-11-10 22:52:27</td>\n",
       "      <td>3636.003125</td>\n",
       "    </tr>\n",
       "    <tr>\n",
       "      <th>674757</th>\n",
       "      <td>2014-11-10 22:53:27</td>\n",
       "      <td>3704.196250</td>\n",
       "    </tr>\n",
       "  </tbody>\n",
       "</table>\n",
       "<p>522410 rows × 2 columns</p>\n",
       "</div>"
      ],
      "text/plain": [
       "                      Time        Value\n",
       "152348 2013-11-10 00:00:30  8367.816250\n",
       "152349 2013-11-10 00:01:30  8287.111375\n",
       "152350 2013-11-10 00:02:30  8340.608125\n",
       "152351 2013-11-10 00:03:30  8342.061625\n",
       "152352 2013-11-10 00:04:30  8341.360375\n",
       "152353 2013-11-10 00:05:30  8343.680875\n",
       "152354 2013-11-10 00:06:30  8335.307125\n",
       "152355 2013-11-10 00:07:30  8294.368000\n",
       "152356 2013-11-10 00:08:30  8327.415375\n",
       "152357 2013-11-10 00:09:30  8287.635875\n",
       "152358 2013-11-10 00:10:30  8331.407875\n",
       "152359 2013-11-10 00:11:30  8293.145250\n",
       "152360 2013-11-10 00:12:30  8294.012875\n",
       "152361 2013-11-10 00:13:30  8266.896000\n",
       "152362 2013-11-10 00:14:30  8336.414875\n",
       "152363 2013-11-10 00:15:30  8287.716375\n",
       "152364 2013-11-10 00:16:30  8394.073500\n",
       "152365 2013-11-10 00:17:30  8357.013375\n",
       "152366 2013-11-10 00:18:30  8264.901375\n",
       "152367 2013-11-10 00:19:30  8297.806375\n",
       "152368 2013-11-10 00:20:30  8252.975625\n",
       "152369 2013-11-10 00:21:30  8282.008500\n",
       "152370 2013-11-10 00:22:30  8248.504375\n",
       "152371 2013-11-10 00:23:30  8268.688375\n",
       "152372 2013-11-10 00:24:30  8242.808000\n",
       "152373 2013-11-10 00:25:30  8260.130125\n",
       "152374 2013-11-10 00:26:30  8255.203000\n",
       "152375 2013-11-10 00:27:30  8223.447625\n",
       "152376 2013-11-10 00:28:30  8200.859625\n",
       "152377 2013-11-10 00:29:30  8246.752000\n",
       "...                    ...          ...\n",
       "674728 2014-11-10 22:24:27  3543.411500\n",
       "674729 2014-11-10 22:25:27  3579.008000\n",
       "674730 2014-11-10 22:26:27  3579.008000\n",
       "674731 2014-11-10 22:27:27  3579.008000\n",
       "674732 2014-11-10 22:28:27  3579.008000\n",
       "674733 2014-11-10 22:29:27  3579.008000\n",
       "674734 2014-11-10 22:30:27  3579.008000\n",
       "674735 2014-11-10 22:31:27  3579.008000\n",
       "674736 2014-11-10 22:32:27  3579.008000\n",
       "674737 2014-11-10 22:33:27  3579.008000\n",
       "674738 2014-11-10 22:34:27  3517.766250\n",
       "674739 2014-11-10 22:35:27  3381.182250\n",
       "674740 2014-11-10 22:36:27  3506.303875\n",
       "674741 2014-11-10 22:37:27  3507.921250\n",
       "674742 2014-11-10 22:38:27  3286.826625\n",
       "674743 2014-11-10 22:39:27  3497.837750\n",
       "674744 2014-11-10 22:40:27  3423.302750\n",
       "674745 2014-11-10 22:41:27  3480.630750\n",
       "674746 2014-11-10 22:42:27  3344.575500\n",
       "674747 2014-11-10 22:43:27  3620.736625\n",
       "674748 2014-11-10 22:44:27  3513.079500\n",
       "674749 2014-11-10 22:45:27  3358.159875\n",
       "674750 2014-11-10 22:46:27  3557.792375\n",
       "674751 2014-11-10 22:47:27  3305.189250\n",
       "674752 2014-11-10 22:48:27  3347.225875\n",
       "674753 2014-11-10 22:49:27  3561.798250\n",
       "674754 2014-11-10 22:50:27  3545.913875\n",
       "674755 2014-11-10 22:51:27  3494.222875\n",
       "674756 2014-11-10 22:52:27  3636.003125\n",
       "674757 2014-11-10 22:53:27  3704.196250\n",
       "\n",
       "[522410 rows x 2 columns]"
      ]
     },
     "execution_count": 6,
     "metadata": {},
     "output_type": "execute_result"
    }
   ],
   "source": [
    "data['Point name'].value_counts()\n",
    "\n",
    "# data['Point name'== Electric kW Calculations - Main Campus kW]\n",
    "\n",
    "ek=data.loc[data['Point name'] == 'Electric kW Calculations - Main Campus kW']\n",
    "\n",
    "ek = ek.drop(ek.columns[0],axis=1)\n",
    "\n",
    "ek[['Time','Value']]"
   ]
  },
  {
   "cell_type": "code",
   "execution_count": 7,
   "metadata": {
    "collapsed": false
   },
   "outputs": [
    {
     "data": {
      "text/plain": [
       "<matplotlib.axes._subplots.AxesSubplot at 0x112a7ff28>"
      ]
     },
     "execution_count": 7,
     "metadata": {},
     "output_type": "execute_result"
    },
    {
     "data": {
      "image/png": "[encoded data removed]",
      "text/plain": [
       "<matplotlib.figure.Figure at 0x112a84860>"
      ]
     },
     "metadata": {},
     "output_type": "display_data"
    }
   ],
   "source": [
    "ek_2 = ek.set_index('Time')\n",
    "\n",
    "ek_2.index=pd.to_datetime(ek_2.index)\n",
    "\n",
    "ek_hourly = ek_2.resample('H').mean()\n",
    "\n",
    "ek_hourly['Value'].hist()"
   ]
  },
  {
   "cell_type": "code",
   "execution_count": 8,
   "metadata": {
    "collapsed": false
   },
   "outputs": [
    {
     "data": {
      "text/html": [
       "<div>\n",
       "<table border=\"1\" class=\"dataframe\">\n",
       "  <thead>\n",
       "    <tr style=\"text-align: right;\">\n",
       "      <th></th>\n",
       "      <th>Value</th>\n",
       "    </tr>\n",
       "    <tr>\n",
       "      <th>Time</th>\n",
       "      <th></th>\n",
       "    </tr>\n",
       "  </thead>\n",
       "  <tbody>\n",
       "    <tr>\n",
       "      <th>2013-11-10</th>\n",
       "      <td>8393.388868</td>\n",
       "    </tr>\n",
       "    <tr>\n",
       "      <th>2013-11-11</th>\n",
       "      <td>9099.672082</td>\n",
       "    </tr>\n",
       "    <tr>\n",
       "      <th>2013-11-12</th>\n",
       "      <td>9022.590643</td>\n",
       "    </tr>\n",
       "    <tr>\n",
       "      <th>2013-11-13</th>\n",
       "      <td>9110.351568</td>\n",
       "    </tr>\n",
       "    <tr>\n",
       "      <th>2013-11-14</th>\n",
       "      <td>9062.693597</td>\n",
       "    </tr>\n",
       "    <tr>\n",
       "      <th>2013-11-15</th>\n",
       "      <td>8891.615189</td>\n",
       "    </tr>\n",
       "    <tr>\n",
       "      <th>2013-11-16</th>\n",
       "      <td>8620.645746</td>\n",
       "    </tr>\n",
       "    <tr>\n",
       "      <th>2013-11-17</th>\n",
       "      <td>8715.570087</td>\n",
       "    </tr>\n",
       "    <tr>\n",
       "      <th>2013-11-18</th>\n",
       "      <td>9021.979361</td>\n",
       "    </tr>\n",
       "    <tr>\n",
       "      <th>2013-11-19</th>\n",
       "      <td>8960.624445</td>\n",
       "    </tr>\n",
       "    <tr>\n",
       "      <th>2013-11-20</th>\n",
       "      <td>9033.613166</td>\n",
       "    </tr>\n",
       "    <tr>\n",
       "      <th>2013-11-21</th>\n",
       "      <td>9057.755833</td>\n",
       "    </tr>\n",
       "    <tr>\n",
       "      <th>2013-11-22</th>\n",
       "      <td>8906.223629</td>\n",
       "    </tr>\n",
       "    <tr>\n",
       "      <th>2013-11-23</th>\n",
       "      <td>7921.556725</td>\n",
       "    </tr>\n",
       "    <tr>\n",
       "      <th>2013-11-24</th>\n",
       "      <td>6877.864179</td>\n",
       "    </tr>\n",
       "    <tr>\n",
       "      <th>2013-11-25</th>\n",
       "      <td>8663.806793</td>\n",
       "    </tr>\n",
       "    <tr>\n",
       "      <th>2013-11-26</th>\n",
       "      <td>8658.043231</td>\n",
       "    </tr>\n",
       "    <tr>\n",
       "      <th>2013-11-27</th>\n",
       "      <td>8036.916502</td>\n",
       "    </tr>\n",
       "    <tr>\n",
       "      <th>2013-11-28</th>\n",
       "      <td>7599.415595</td>\n",
       "    </tr>\n",
       "    <tr>\n",
       "      <th>2013-11-29</th>\n",
       "      <td>7602.389087</td>\n",
       "    </tr>\n",
       "    <tr>\n",
       "      <th>2013-11-30</th>\n",
       "      <td>7651.476502</td>\n",
       "    </tr>\n",
       "    <tr>\n",
       "      <th>2013-12-01</th>\n",
       "      <td>7848.796281</td>\n",
       "    </tr>\n",
       "    <tr>\n",
       "      <th>2013-12-02</th>\n",
       "      <td>8732.960421</td>\n",
       "    </tr>\n",
       "    <tr>\n",
       "      <th>2013-12-03</th>\n",
       "      <td>8893.499739</td>\n",
       "    </tr>\n",
       "    <tr>\n",
       "      <th>2013-12-04</th>\n",
       "      <td>9062.169838</td>\n",
       "    </tr>\n",
       "    <tr>\n",
       "      <th>2013-12-05</th>\n",
       "      <td>9344.179116</td>\n",
       "    </tr>\n",
       "    <tr>\n",
       "      <th>2013-12-06</th>\n",
       "      <td>8918.756250</td>\n",
       "    </tr>\n",
       "    <tr>\n",
       "      <th>2013-12-07</th>\n",
       "      <td>8316.967794</td>\n",
       "    </tr>\n",
       "    <tr>\n",
       "      <th>2013-12-08</th>\n",
       "      <td>8273.054320</td>\n",
       "    </tr>\n",
       "    <tr>\n",
       "      <th>2013-12-09</th>\n",
       "      <td>8824.958507</td>\n",
       "    </tr>\n",
       "    <tr>\n",
       "      <th>...</th>\n",
       "      <td>...</td>\n",
       "    </tr>\n",
       "    <tr>\n",
       "      <th>2014-10-12</th>\n",
       "      <td>8693.507560</td>\n",
       "    </tr>\n",
       "    <tr>\n",
       "      <th>2014-10-13</th>\n",
       "      <td>10287.732849</td>\n",
       "    </tr>\n",
       "    <tr>\n",
       "      <th>2014-10-14</th>\n",
       "      <td>10881.671966</td>\n",
       "    </tr>\n",
       "    <tr>\n",
       "      <th>2014-10-15</th>\n",
       "      <td>10070.323169</td>\n",
       "    </tr>\n",
       "    <tr>\n",
       "      <th>2014-10-16</th>\n",
       "      <td>9601.404339</td>\n",
       "    </tr>\n",
       "    <tr>\n",
       "      <th>2014-10-17</th>\n",
       "      <td>9684.175099</td>\n",
       "    </tr>\n",
       "    <tr>\n",
       "      <th>2014-10-18</th>\n",
       "      <td>8652.911671</td>\n",
       "    </tr>\n",
       "    <tr>\n",
       "      <th>2014-10-19</th>\n",
       "      <td>8456.579549</td>\n",
       "    </tr>\n",
       "    <tr>\n",
       "      <th>2014-10-20</th>\n",
       "      <td>9250.618956</td>\n",
       "    </tr>\n",
       "    <tr>\n",
       "      <th>2014-10-21</th>\n",
       "      <td>9544.326268</td>\n",
       "    </tr>\n",
       "    <tr>\n",
       "      <th>2014-10-22</th>\n",
       "      <td>9226.541553</td>\n",
       "    </tr>\n",
       "    <tr>\n",
       "      <th>2014-10-23</th>\n",
       "      <td>7851.822023</td>\n",
       "    </tr>\n",
       "    <tr>\n",
       "      <th>2014-10-24</th>\n",
       "      <td>3483.790120</td>\n",
       "    </tr>\n",
       "    <tr>\n",
       "      <th>2014-10-25</th>\n",
       "      <td>3064.137762</td>\n",
       "    </tr>\n",
       "    <tr>\n",
       "      <th>2014-10-26</th>\n",
       "      <td>3039.318054</td>\n",
       "    </tr>\n",
       "    <tr>\n",
       "      <th>2014-10-27</th>\n",
       "      <td>3670.119988</td>\n",
       "    </tr>\n",
       "    <tr>\n",
       "      <th>2014-10-28</th>\n",
       "      <td>4269.494968</td>\n",
       "    </tr>\n",
       "    <tr>\n",
       "      <th>2014-10-29</th>\n",
       "      <td>3806.918218</td>\n",
       "    </tr>\n",
       "    <tr>\n",
       "      <th>2014-10-30</th>\n",
       "      <td>3673.326249</td>\n",
       "    </tr>\n",
       "    <tr>\n",
       "      <th>2014-10-31</th>\n",
       "      <td>3378.757562</td>\n",
       "    </tr>\n",
       "    <tr>\n",
       "      <th>2014-11-01</th>\n",
       "      <td>2789.690755</td>\n",
       "    </tr>\n",
       "    <tr>\n",
       "      <th>2014-11-02</th>\n",
       "      <td>2719.528566</td>\n",
       "    </tr>\n",
       "    <tr>\n",
       "      <th>2014-11-03</th>\n",
       "      <td>3492.815597</td>\n",
       "    </tr>\n",
       "    <tr>\n",
       "      <th>2014-11-04</th>\n",
       "      <td>4325.955239</td>\n",
       "    </tr>\n",
       "    <tr>\n",
       "      <th>2014-11-05</th>\n",
       "      <td>3806.941166</td>\n",
       "    </tr>\n",
       "    <tr>\n",
       "      <th>2014-11-06</th>\n",
       "      <td>3573.728921</td>\n",
       "    </tr>\n",
       "    <tr>\n",
       "      <th>2014-11-07</th>\n",
       "      <td>3237.051877</td>\n",
       "    </tr>\n",
       "    <tr>\n",
       "      <th>2014-11-08</th>\n",
       "      <td>2777.411881</td>\n",
       "    </tr>\n",
       "    <tr>\n",
       "      <th>2014-11-09</th>\n",
       "      <td>2837.929682</td>\n",
       "    </tr>\n",
       "    <tr>\n",
       "      <th>2014-11-10</th>\n",
       "      <td>3696.962518</td>\n",
       "    </tr>\n",
       "  </tbody>\n",
       "</table>\n",
       "<p>366 rows × 1 columns</p>\n",
       "</div>"
      ],
      "text/plain": [
       "                   Value\n",
       "Time                    \n",
       "2013-11-10   8393.388868\n",
       "2013-11-11   9099.672082\n",
       "2013-11-12   9022.590643\n",
       "2013-11-13   9110.351568\n",
       "2013-11-14   9062.693597\n",
       "2013-11-15   8891.615189\n",
       "2013-11-16   8620.645746\n",
       "2013-11-17   8715.570087\n",
       "2013-11-18   9021.979361\n",
       "2013-11-19   8960.624445\n",
       "2013-11-20   9033.613166\n",
       "2013-11-21   9057.755833\n",
       "2013-11-22   8906.223629\n",
       "2013-11-23   7921.556725\n",
       "2013-11-24   6877.864179\n",
       "2013-11-25   8663.806793\n",
       "2013-11-26   8658.043231\n",
       "2013-11-27   8036.916502\n",
       "2013-11-28   7599.415595\n",
       "2013-11-29   7602.389087\n",
       "2013-11-30   7651.476502\n",
       "2013-12-01   7848.796281\n",
       "2013-12-02   8732.960421\n",
       "2013-12-03   8893.499739\n",
       "2013-12-04   9062.169838\n",
       "2013-12-05   9344.179116\n",
       "2013-12-06   8918.756250\n",
       "2013-12-07   8316.967794\n",
       "2013-12-08   8273.054320\n",
       "2013-12-09   8824.958507\n",
       "...                  ...\n",
       "2014-10-12   8693.507560\n",
       "2014-10-13  10287.732849\n",
       "2014-10-14  10881.671966\n",
       "2014-10-15  10070.323169\n",
       "2014-10-16   9601.404339\n",
       "2014-10-17   9684.175099\n",
       "2014-10-18   8652.911671\n",
       "2014-10-19   8456.579549\n",
       "2014-10-20   9250.618956\n",
       "2014-10-21   9544.326268\n",
       "2014-10-22   9226.541553\n",
       "2014-10-23   7851.822023\n",
       "2014-10-24   3483.790120\n",
       "2014-10-25   3064.137762\n",
       "2014-10-26   3039.318054\n",
       "2014-10-27   3670.119988\n",
       "2014-10-28   4269.494968\n",
       "2014-10-29   3806.918218\n",
       "2014-10-30   3673.326249\n",
       "2014-10-31   3378.757562\n",
       "2014-11-01   2789.690755\n",
       "2014-11-02   2719.528566\n",
       "2014-11-03   3492.815597\n",
       "2014-11-04   4325.955239\n",
       "2014-11-05   3806.941166\n",
       "2014-11-06   3573.728921\n",
       "2014-11-07   3237.051877\n",
       "2014-11-08   2777.411881\n",
       "2014-11-09   2837.929682\n",
       "2014-11-10   3696.962518\n",
       "\n",
       "[366 rows x 1 columns]"
      ]
     },
     "execution_count": 8,
     "metadata": {},
     "output_type": "execute_result"
    }
   ],
   "source": [
    "ek_2.resample('D').mean()"
   ]
  },
  {
   "cell_type": "code",
   "execution_count": 9,
   "metadata": {
    "collapsed": false
   },
   "outputs": [
    {
     "data": {
      "text/plain": [
       "array([6, 6, 6, ..., 0, 0, 0], dtype=int32)"
      ]
     },
     "execution_count": 9,
     "metadata": {},
     "output_type": "execute_result"
    }
   ],
   "source": [
    "ek_2.index.dayofweek"
   ]
  },
  {
   "cell_type": "code",
   "execution_count": 10,
   "metadata": {
    "collapsed": false
   },
   "outputs": [],
   "source": [
    "ek['Weekday']=ek['Time'].dt.dayofweek\n",
    "\n",
    "ek_3 = ek\n",
    "\n",
    "del ek['Weekday']\n"
   ]
  },
  {
   "cell_type": "code",
   "execution_count": 11,
   "metadata": {
    "collapsed": false
   },
   "outputs": [],
   "source": [
    "ek_3['Weekday']=ek['Time'].dt.dayofweek"
   ]
  },
  {
   "cell_type": "code",
   "execution_count": 12,
   "metadata": {
    "collapsed": false
   },
   "outputs": [],
   "source": [
    "Mondays = ek_3[ek_3['Weekday'] ==0 ]\n",
    "Tuesdays = ek_3[ek_3['Weekday'] ==1 ]\n",
    "Wednesdays = ek_3[ek_3['Weekday'] ==2 ]\n",
    "Thursdays = ek_3[ek_3['Weekday'] ==3 ]\n",
    "Fridays = ek_3[ek_3['Weekday'] ==4 ]\n",
    "Saturdays = ek_3[ek_3['Weekday'] ==5 ]\n",
    "Sundays = ek_3[ek_3['Weekday'] ==6 ]"
   ]
  },
  {
   "cell_type": "code",
   "execution_count": 13,
   "metadata": {
    "collapsed": false
   },
   "outputs": [
    {
     "data": {
      "text/plain": [
       "pandas.core.frame.DataFrame"
      ]
     },
     "execution_count": 13,
     "metadata": {},
     "output_type": "execute_result"
    }
   ],
   "source": [
    "type(Mondays)"
   ]
  },
  {
   "cell_type": "code",
   "execution_count": 14,
   "metadata": {
    "collapsed": false
   },
   "outputs": [
    {
     "data": {
      "text/plain": [
       "<matplotlib.axes._subplots.AxesSubplot at 0x112a6bf60>"
      ]
     },
     "execution_count": 14,
     "metadata": {},
     "output_type": "execute_result"
    },
    {
     "data": {
      "image/png": "[encoded data removed]",
      "text/plain": [
       "<matplotlib.figure.Figure at 0x104435a20>"
      ]
     },
     "metadata": {},
     "output_type": "display_data"
    }
   ],
   "source": [
    "Sunday = Sundays.set_index('Time')\n",
    "\n",
    "Sunday.resample('H').mean()\n",
    "\n",
    "Sunday['Value'].hist()"
   ]
  },
  {
   "cell_type": "code",
   "execution_count": 15,
   "metadata": {
    "collapsed": false
   },
   "outputs": [
    {
     "data": {
      "text/plain": [
       "<matplotlib.axes._subplots.AxesSubplot at 0x1044aabe0>"
      ]
     },
     "execution_count": 15,
     "metadata": {},
     "output_type": "execute_result"
    },
    {
     "data": {
      "image/png": "[encoded data removed]",
      "text/plain": [
       "<matplotlib.figure.Figure at 0x10450d828>"
      ]
     },
     "metadata": {},
     "output_type": "display_data"
    }
   ],
   "source": [
    "Monday = Mondays.set_index('Time')\n",
    "\n",
    "Monday.resample('H').mean()\n",
    "\n",
    "Monday['Value'].hist()"
   ]
  },
  {
   "cell_type": "code",
   "execution_count": 16,
   "metadata": {
    "collapsed": false
   },
   "outputs": [
    {
     "data": {
      "text/plain": [
       "<matplotlib.axes._subplots.AxesSubplot at 0x104540860>"
      ]
     },
     "execution_count": 16,
     "metadata": {},
     "output_type": "execute_result"
    },
    {
     "data": {
      "image/png": "[encoded data removed]",
      "text/plain": [
       "<matplotlib.figure.Figure at 0x113563390>"
      ]
     },
     "metadata": {},
     "output_type": "display_data"
    }
   ],
   "source": [
    "Tuesday = Tuesdays.set_index('Time')\n",
    "\n",
    "Tuesday.resample('H').mean()\n",
    "\n",
    "Tuesday['Value'].hist()"
   ]
  },
  {
   "cell_type": "code",
   "execution_count": 17,
   "metadata": {
    "collapsed": false
   },
   "outputs": [
    {
     "data": {
      "text/plain": [
       "<matplotlib.axes._subplots.AxesSubplot at 0x114604080>"
      ]
     },
     "execution_count": 17,
     "metadata": {},
     "output_type": "execute_result"
    },
    {
     "data": {
      "image/png": "[encoded data removed]",
      "text/plain": [
       "<matplotlib.figure.Figure at 0x11460cf60>"
      ]
     },
     "metadata": {},
     "output_type": "display_data"
    }
   ],
   "source": [
    "Wednesday = Wednesdays.set_index('Time')\n",
    "\n",
    "Wednesday.resample('H').mean()\n",
    "\n",
    "Wednesday['Value'].hist()"
   ]
  },
  {
   "cell_type": "code",
   "execution_count": 18,
   "metadata": {
    "collapsed": false
   },
   "outputs": [
    {
     "data": {
      "text/plain": [
       "<matplotlib.axes._subplots.AxesSubplot at 0x1043e4240>"
      ]
     },
     "execution_count": 18,
     "metadata": {},
     "output_type": "execute_result"
    },
    {
     "data": {
      "image/png": "[encoded data removed]",
      "text/plain": [
       "<matplotlib.figure.Figure at 0x10440bb00>"
      ]
     },
     "metadata": {},
     "output_type": "display_data"
    }
   ],
   "source": [
    "Thursday = Thursdays.set_index('Time')\n",
    "\n",
    "Thursday.resample('H').mean()\n",
    "\n",
    "Thursday['Value'].hist()"
   ]
  },
  {
   "cell_type": "code",
   "execution_count": 19,
   "metadata": {
    "collapsed": false
   },
   "outputs": [
    {
     "data": {
      "text/plain": [
       "<matplotlib.axes._subplots.AxesSubplot at 0x1182a1198>"
      ]
     },
     "execution_count": 19,
     "metadata": {},
     "output_type": "execute_result"
    },
    {
     "data": {
      "image/png": "[encoded data removed]",
      "text/plain": [
       "<matplotlib.figure.Figure at 0x1182b34a8>"
      ]
     },
     "metadata": {},
     "output_type": "display_data"
    }
   ],
   "source": [
    "Friday = Fridays.set_index('Time')\n",
    "\n",
    "Friday.resample('H').mean()\n",
    "\n",
    "Friday['Value'].hist()"
   ]
  },
  {
   "cell_type": "code",
   "execution_count": 20,
   "metadata": {
    "collapsed": false
   },
   "outputs": [
    {
     "data": {
      "text/plain": [
       "<matplotlib.axes._subplots.AxesSubplot at 0x118c2f3c8>"
      ]
     },
     "execution_count": 20,
     "metadata": {},
     "output_type": "execute_result"
    },
    {
     "data": {
      "image/png": "[encoded data removed]",
      "text/plain": [
       "<matplotlib.figure.Figure at 0x118c3e048>"
      ]
     },
     "metadata": {},
     "output_type": "display_data"
    }
   ],
   "source": [
    "Saturday = Saturdays.set_index('Time')\n",
    "\n",
    "Saturday.resample('H').mean()\n",
    "\n",
    "Saturday['Value'].hist()"
   ]
  },
  {
   "cell_type": "code",
   "execution_count": 21,
   "metadata": {
    "collapsed": false
   },
   "outputs": [],
   "source": [
    "DayDictionary = {0:'Monday',1:'Tuesday',2:'Wednesday',3:'Thursday',4:'Friday',5:'Saturday',6:'Sunday'}"
   ]
  },
  {
   "cell_type": "code",
   "execution_count": 37,
   "metadata": {
    "collapsed": false
   },
   "outputs": [],
   "source": [
    "# for i in range(0,7):\n",
    "#     a=DayDictionary[i]\n",
    "#     if i ==0:\n",
    "#         Monday['Value'].hist()\n",
    "        \n",
    "#     if i==1:\n",
    "#         Tuesday['Value'].hist()\n",
    "        \n",
    "#     if i==2:\n",
    "#         Wednesday['Value'].hist()\n",
    "        \n",
    "#     if i==3:\n",
    "#         Thursday['Value'].hist()\n",
    "        \n",
    "#     if i==4:\n",
    "#         Friday['Value'].hist()\n",
    "        \n",
    "#     if i==5:\n",
    "#         Saturday['Value'].hist()\n",
    "        \n",
    "#     if i==6:\n",
    "#         Sunday['Value'].hist()"
   ]
  },
  {
   "cell_type": "markdown",
   "metadata": {},
   "source": [
    "$$ Box-Plots $$"
   ]
  },
  {
   "cell_type": "code",
   "execution_count": 43,
   "metadata": {
    "collapsed": false
   },
   "outputs": [],
   "source": [
    "ek_4 = ek_2.resample('H').mean()\n",
    "\n",
    "ek_4['Weekday']=ek['Time'].dt.dayofweek\n",
    "\n",
    "del ek_4['Weekday']"
   ]
  },
  {
   "cell_type": "code",
   "execution_count": 44,
   "metadata": {
    "collapsed": false
   },
   "outputs": [
    {
     "data": {
      "text/html": [
       "<div>\n",
       "<table border=\"1\" class=\"dataframe\">\n",
       "  <thead>\n",
       "    <tr style=\"text-align: right;\">\n",
       "      <th></th>\n",
       "      <th>Value</th>\n",
       "    </tr>\n",
       "    <tr>\n",
       "      <th>Time</th>\n",
       "      <th></th>\n",
       "    </tr>\n",
       "  </thead>\n",
       "  <tbody>\n",
       "    <tr>\n",
       "      <th>2013-11-10 00:00:00</th>\n",
       "      <td>8261.731944</td>\n",
       "    </tr>\n",
       "    <tr>\n",
       "      <th>2013-11-10 01:00:00</th>\n",
       "      <td>8131.553229</td>\n",
       "    </tr>\n",
       "    <tr>\n",
       "      <th>2013-11-10 02:00:00</th>\n",
       "      <td>7985.570644</td>\n",
       "    </tr>\n",
       "    <tr>\n",
       "      <th>2013-11-10 03:00:00</th>\n",
       "      <td>7912.394148</td>\n",
       "    </tr>\n",
       "    <tr>\n",
       "      <th>2013-11-10 04:00:00</th>\n",
       "      <td>7857.923992</td>\n",
       "    </tr>\n",
       "    <tr>\n",
       "      <th>2013-11-10 05:00:00</th>\n",
       "      <td>7862.010058</td>\n",
       "    </tr>\n",
       "    <tr>\n",
       "      <th>2013-11-10 06:00:00</th>\n",
       "      <td>7885.617094</td>\n",
       "    </tr>\n",
       "    <tr>\n",
       "      <th>2013-11-10 07:00:00</th>\n",
       "      <td>7856.087542</td>\n",
       "    </tr>\n",
       "    <tr>\n",
       "      <th>2013-11-10 08:00:00</th>\n",
       "      <td>7878.690183</td>\n",
       "    </tr>\n",
       "    <tr>\n",
       "      <th>2013-11-10 09:00:00</th>\n",
       "      <td>8049.828625</td>\n",
       "    </tr>\n",
       "    <tr>\n",
       "      <th>2013-11-10 10:00:00</th>\n",
       "      <td>8263.411967</td>\n",
       "    </tr>\n",
       "    <tr>\n",
       "      <th>2013-11-10 11:00:00</th>\n",
       "      <td>8422.975015</td>\n",
       "    </tr>\n",
       "    <tr>\n",
       "      <th>2013-11-10 12:00:00</th>\n",
       "      <td>8555.848556</td>\n",
       "    </tr>\n",
       "    <tr>\n",
       "      <th>2013-11-10 13:00:00</th>\n",
       "      <td>8679.784192</td>\n",
       "    </tr>\n",
       "    <tr>\n",
       "      <th>2013-11-10 14:00:00</th>\n",
       "      <td>8771.265092</td>\n",
       "    </tr>\n",
       "    <tr>\n",
       "      <th>2013-11-10 15:00:00</th>\n",
       "      <td>8840.671298</td>\n",
       "    </tr>\n",
       "    <tr>\n",
       "      <th>2013-11-10 16:00:00</th>\n",
       "      <td>8841.125129</td>\n",
       "    </tr>\n",
       "    <tr>\n",
       "      <th>2013-11-10 17:00:00</th>\n",
       "      <td>8973.462544</td>\n",
       "    </tr>\n",
       "    <tr>\n",
       "      <th>2013-11-10 18:00:00</th>\n",
       "      <td>8899.309123</td>\n",
       "    </tr>\n",
       "    <tr>\n",
       "      <th>2013-11-10 19:00:00</th>\n",
       "      <td>8859.551002</td>\n",
       "    </tr>\n",
       "    <tr>\n",
       "      <th>2013-11-10 20:00:00</th>\n",
       "      <td>8837.606698</td>\n",
       "    </tr>\n",
       "    <tr>\n",
       "      <th>2013-11-10 21:00:00</th>\n",
       "      <td>8780.544769</td>\n",
       "    </tr>\n",
       "    <tr>\n",
       "      <th>2013-11-10 22:00:00</th>\n",
       "      <td>8647.659969</td>\n",
       "    </tr>\n",
       "    <tr>\n",
       "      <th>2013-11-10 23:00:00</th>\n",
       "      <td>8386.710027</td>\n",
       "    </tr>\n",
       "    <tr>\n",
       "      <th>2013-11-11 00:00:00</th>\n",
       "      <td>8197.355862</td>\n",
       "    </tr>\n",
       "    <tr>\n",
       "      <th>2013-11-11 01:00:00</th>\n",
       "      <td>8054.626069</td>\n",
       "    </tr>\n",
       "    <tr>\n",
       "      <th>2013-11-11 02:00:00</th>\n",
       "      <td>7868.638944</td>\n",
       "    </tr>\n",
       "    <tr>\n",
       "      <th>2013-11-11 03:00:00</th>\n",
       "      <td>7771.354406</td>\n",
       "    </tr>\n",
       "    <tr>\n",
       "      <th>2013-11-11 04:00:00</th>\n",
       "      <td>7811.224690</td>\n",
       "    </tr>\n",
       "    <tr>\n",
       "      <th>2013-11-11 05:00:00</th>\n",
       "      <td>7866.789740</td>\n",
       "    </tr>\n",
       "    <tr>\n",
       "      <th>...</th>\n",
       "      <td>...</td>\n",
       "    </tr>\n",
       "    <tr>\n",
       "      <th>2014-11-09 17:00:00</th>\n",
       "      <td>3257.593969</td>\n",
       "    </tr>\n",
       "    <tr>\n",
       "      <th>2014-11-09 18:00:00</th>\n",
       "      <td>3317.927902</td>\n",
       "    </tr>\n",
       "    <tr>\n",
       "      <th>2014-11-09 19:00:00</th>\n",
       "      <td>3104.811938</td>\n",
       "    </tr>\n",
       "    <tr>\n",
       "      <th>2014-11-09 20:00:00</th>\n",
       "      <td>3140.474817</td>\n",
       "    </tr>\n",
       "    <tr>\n",
       "      <th>2014-11-09 21:00:00</th>\n",
       "      <td>3030.308079</td>\n",
       "    </tr>\n",
       "    <tr>\n",
       "      <th>2014-11-09 22:00:00</th>\n",
       "      <td>3031.118046</td>\n",
       "    </tr>\n",
       "    <tr>\n",
       "      <th>2014-11-09 23:00:00</th>\n",
       "      <td>2891.945333</td>\n",
       "    </tr>\n",
       "    <tr>\n",
       "      <th>2014-11-10 00:00:00</th>\n",
       "      <td>2802.089725</td>\n",
       "    </tr>\n",
       "    <tr>\n",
       "      <th>2014-11-10 01:00:00</th>\n",
       "      <td>2618.999035</td>\n",
       "    </tr>\n",
       "    <tr>\n",
       "      <th>2014-11-10 02:00:00</th>\n",
       "      <td>2495.330723</td>\n",
       "    </tr>\n",
       "    <tr>\n",
       "      <th>2014-11-10 03:00:00</th>\n",
       "      <td>2477.285796</td>\n",
       "    </tr>\n",
       "    <tr>\n",
       "      <th>2014-11-10 04:00:00</th>\n",
       "      <td>2384.273306</td>\n",
       "    </tr>\n",
       "    <tr>\n",
       "      <th>2014-11-10 05:00:00</th>\n",
       "      <td>2424.666860</td>\n",
       "    </tr>\n",
       "    <tr>\n",
       "      <th>2014-11-10 06:00:00</th>\n",
       "      <td>2442.839906</td>\n",
       "    </tr>\n",
       "    <tr>\n",
       "      <th>2014-11-10 07:00:00</th>\n",
       "      <td>2580.533002</td>\n",
       "    </tr>\n",
       "    <tr>\n",
       "      <th>2014-11-10 08:00:00</th>\n",
       "      <td>3242.791515</td>\n",
       "    </tr>\n",
       "    <tr>\n",
       "      <th>2014-11-10 09:00:00</th>\n",
       "      <td>3816.939473</td>\n",
       "    </tr>\n",
       "    <tr>\n",
       "      <th>2014-11-10 10:00:00</th>\n",
       "      <td>4533.337981</td>\n",
       "    </tr>\n",
       "    <tr>\n",
       "      <th>2014-11-10 11:00:00</th>\n",
       "      <td>4764.985821</td>\n",
       "    </tr>\n",
       "    <tr>\n",
       "      <th>2014-11-10 12:00:00</th>\n",
       "      <td>4774.381994</td>\n",
       "    </tr>\n",
       "    <tr>\n",
       "      <th>2014-11-10 13:00:00</th>\n",
       "      <td>4823.995419</td>\n",
       "    </tr>\n",
       "    <tr>\n",
       "      <th>2014-11-10 14:00:00</th>\n",
       "      <td>4947.976231</td>\n",
       "    </tr>\n",
       "    <tr>\n",
       "      <th>2014-11-10 15:00:00</th>\n",
       "      <td>5009.875792</td>\n",
       "    </tr>\n",
       "    <tr>\n",
       "      <th>2014-11-10 16:00:00</th>\n",
       "      <td>4874.107165</td>\n",
       "    </tr>\n",
       "    <tr>\n",
       "      <th>2014-11-10 17:00:00</th>\n",
       "      <td>4685.694296</td>\n",
       "    </tr>\n",
       "    <tr>\n",
       "      <th>2014-11-10 18:00:00</th>\n",
       "      <td>4252.196563</td>\n",
       "    </tr>\n",
       "    <tr>\n",
       "      <th>2014-11-10 19:00:00</th>\n",
       "      <td>3959.348133</td>\n",
       "    </tr>\n",
       "    <tr>\n",
       "      <th>2014-11-10 20:00:00</th>\n",
       "      <td>3832.897792</td>\n",
       "    </tr>\n",
       "    <tr>\n",
       "      <th>2014-11-10 21:00:00</th>\n",
       "      <td>3703.072237</td>\n",
       "    </tr>\n",
       "    <tr>\n",
       "      <th>2014-11-10 22:00:00</th>\n",
       "      <td>3569.803215</td>\n",
       "    </tr>\n",
       "  </tbody>\n",
       "</table>\n",
       "<p>8783 rows × 1 columns</p>\n",
       "</div>"
      ],
      "text/plain": [
       "                           Value\n",
       "Time                            \n",
       "2013-11-10 00:00:00  8261.731944\n",
       "2013-11-10 01:00:00  8131.553229\n",
       "2013-11-10 02:00:00  7985.570644\n",
       "2013-11-10 03:00:00  7912.394148\n",
       "2013-11-10 04:00:00  7857.923992\n",
       "2013-11-10 05:00:00  7862.010058\n",
       "2013-11-10 06:00:00  7885.617094\n",
       "2013-11-10 07:00:00  7856.087542\n",
       "2013-11-10 08:00:00  7878.690183\n",
       "2013-11-10 09:00:00  8049.828625\n",
       "2013-11-10 10:00:00  8263.411967\n",
       "2013-11-10 11:00:00  8422.975015\n",
       "2013-11-10 12:00:00  8555.848556\n",
       "2013-11-10 13:00:00  8679.784192\n",
       "2013-11-10 14:00:00  8771.265092\n",
       "2013-11-10 15:00:00  8840.671298\n",
       "2013-11-10 16:00:00  8841.125129\n",
       "2013-11-10 17:00:00  8973.462544\n",
       "2013-11-10 18:00:00  8899.309123\n",
       "2013-11-10 19:00:00  8859.551002\n",
       "2013-11-10 20:00:00  8837.606698\n",
       "2013-11-10 21:00:00  8780.544769\n",
       "2013-11-10 22:00:00  8647.659969\n",
       "2013-11-10 23:00:00  8386.710027\n",
       "2013-11-11 00:00:00  8197.355862\n",
       "2013-11-11 01:00:00  8054.626069\n",
       "2013-11-11 02:00:00  7868.638944\n",
       "2013-11-11 03:00:00  7771.354406\n",
       "2013-11-11 04:00:00  7811.224690\n",
       "2013-11-11 05:00:00  7866.789740\n",
       "...                          ...\n",
       "2014-11-09 17:00:00  3257.593969\n",
       "2014-11-09 18:00:00  3317.927902\n",
       "2014-11-09 19:00:00  3104.811938\n",
       "2014-11-09 20:00:00  3140.474817\n",
       "2014-11-09 21:00:00  3030.308079\n",
       "2014-11-09 22:00:00  3031.118046\n",
       "2014-11-09 23:00:00  2891.945333\n",
       "2014-11-10 00:00:00  2802.089725\n",
       "2014-11-10 01:00:00  2618.999035\n",
       "2014-11-10 02:00:00  2495.330723\n",
       "2014-11-10 03:00:00  2477.285796\n",
       "2014-11-10 04:00:00  2384.273306\n",
       "2014-11-10 05:00:00  2424.666860\n",
       "2014-11-10 06:00:00  2442.839906\n",
       "2014-11-10 07:00:00  2580.533002\n",
       "2014-11-10 08:00:00  3242.791515\n",
       "2014-11-10 09:00:00  3816.939473\n",
       "2014-11-10 10:00:00  4533.337981\n",
       "2014-11-10 11:00:00  4764.985821\n",
       "2014-11-10 12:00:00  4774.381994\n",
       "2014-11-10 13:00:00  4823.995419\n",
       "2014-11-10 14:00:00  4947.976231\n",
       "2014-11-10 15:00:00  5009.875792\n",
       "2014-11-10 16:00:00  4874.107165\n",
       "2014-11-10 17:00:00  4685.694296\n",
       "2014-11-10 18:00:00  4252.196563\n",
       "2014-11-10 19:00:00  3959.348133\n",
       "2014-11-10 20:00:00  3832.897792\n",
       "2014-11-10 21:00:00  3703.072237\n",
       "2014-11-10 22:00:00  3569.803215\n",
       "\n",
       "[8783 rows x 1 columns]"
      ]
     },
     "execution_count": 44,
     "metadata": {},
     "output_type": "execute_result"
    }
   ],
   "source": [
    "ek_4.resample('H').mean()"
   ]
  },
  {
   "cell_type": "code",
   "execution_count": 40,
   "metadata": {
    "collapsed": false
   },
   "outputs": [
    {
     "data": {
      "text/plain": [
       "0   0    8466.881811\n",
       "1   0    8340.925600\n",
       "2   0    8217.128429\n",
       "3   0    8137.314850\n",
       "4   0    8095.065495\n",
       "5   0    8093.934045\n",
       "6   0    8169.771496\n",
       "7   0    8290.853731\n",
       "8   0    8646.990926\n",
       "9   0    9057.459087\n",
       "10  0    9402.380325\n",
       "11  0    9620.075722\n",
       "12  0    9740.696725\n",
       "13  0    9845.207627\n",
       "14  0    9918.497261\n",
       "15  0    9909.865290\n",
       "16  0    9797.720276\n",
       "17  0    9539.877198\n",
       "18  0    9334.730762\n",
       "19  0    9191.321138\n",
       "20  0    9079.653961\n",
       "21  0    8922.710587\n",
       "22  0    8754.948620\n",
       "23  0    8615.376134\n",
       "Name: Value, dtype: float64"
      ]
     },
     "execution_count": 40,
     "metadata": {},
     "output_type": "execute_result"
    }
   ],
   "source": [
    "times = pd.to_datetime(ek_4.index)\n",
    "ek_4.groupby([times.hour, times.minute]).Value.mean()"
   ]
  },
  {
   "cell_type": "code",
   "execution_count": null,
   "metadata": {
    "collapsed": false
   },
   "outputs": [],
   "source": [
    "# ek_4.boxplot()\n",
    "# for i in range(0,24): "
   ]
  },
  {
   "cell_type": "code",
   "execution_count": 41,
   "metadata": {
    "collapsed": false
   },
   "outputs": [
    {
     "data": {
      "text/plain": [
       "array([ 0,  1,  2, ..., 20, 21, 22], dtype=int32)"
      ]
     },
     "execution_count": 41,
     "metadata": {},
     "output_type": "execute_result"
    }
   ],
   "source": [
    "hours = ek_4.index.hour\n",
    "\n",
    "hours"
   ]
  },
  {
   "cell_type": "code",
   "execution_count": 45,
   "metadata": {
    "collapsed": false
   },
   "outputs": [
    {
     "data": {
      "text/plain": [
       "<matplotlib.axes._subplots.AxesSubplot at 0x1259ab400>"
      ]
     },
     "execution_count": 45,
     "metadata": {},
     "output_type": "execute_result"
    },
    {
     "data": {
      "image/png": "[encoded data removed]",
      "text/plain": [
       "<matplotlib.figure.Figure at 0x11ff030b8>"
      ]
     },
     "metadata": {},
     "output_type": "display_data"
    }
   ],
   "source": [
    "ek_4.boxplot()"
   ]
  },
  {
   "cell_type": "code",
   "execution_count": 61,
   "metadata": {
    "collapsed": false
   },
   "outputs": [
    {
     "data": {
      "text/plain": [
       "<Container object of 3 artists>"
      ]
     },
     "execution_count": 61,
     "metadata": {},
     "output_type": "execute_result"
    },
    {
     "data": {
      "image/png": "[encoded data removed]",
      "text/plain": [
       "<matplotlib.figure.Figure at 0x125879710>"
      ]
     },
     "metadata": {},
     "output_type": "display_data"
    }
   ],
   "source": [
    "ek_5=ek_4.resample('D').mean()\n",
    "\n",
    "ek_5\n",
    "\n",
    "plt.stem(ek_5)"
   ]
  },
  {
   "cell_type": "code",
   "execution_count": null,
   "metadata": {
    "collapsed": true
   },
   "outputs": [],
   "source": []
  }
 ],
 "metadata": {
  "anaconda-cloud": {},
  "kernelspec": {
   "display_name": "Python [conda root]",
   "language": "python",
   "name": "conda-root-py"
  },
  "language_info": {
   "codemirror_mode": {
    "name": "ipython",
    "version": 3
   },
   "file_extension": ".py",
   "mimetype": "text/x-python",
   "name": "python",
   "nbconvert_exporter": "python",
   "pygments_lexer": "ipython3",
   "version": "3.5.2"
  }
 },
 "nbformat": 4,
 "nbformat_minor": 1
}
